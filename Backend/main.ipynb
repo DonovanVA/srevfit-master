{
 "cells": [
  {
   "cell_type": "code",
   "execution_count": 2,
   "metadata": {},
   "outputs": [],
   "source": [
    "import numpy as np\n",
    "import pandas as pd"
   ]
  },
  {
   "cell_type": "code",
   "execution_count": 3,
   "metadata": {},
   "outputs": [
    {
     "name": "stdout",
     "output_type": "stream",
     "text": [
      "                 Exercise            Type  Intensity     Unit Muscle Group\n",
      "0               RFESS iso   leg-isometric       0.80     reps          leg\n",
      "1       RFESS oscillating  leg-concentric       0.80  seconds          leg\n",
      "2                   RFESS   leg-eccentric       0.90     reps          leg\n",
      "3                  Squats  leg-concentric       0.80     reps          leg\n",
      "4            Box stepdown   leg-eccentric       0.70     reps          leg\n",
      "5   Shoulder bridge march   leg-isometric       0.50     reps       glutes\n",
      "6           lateral bound        movement       0.30     reps           na\n",
      "7    Hamstring isometrics   leg-isometric       0.50     reps    hamstring\n",
      "8        Hamstring slider   leg-eccentric       0.65     reps    hamstring\n",
      "9          Ankle burnouts        leg-plyo       0.30  seconds           na\n",
      "10               Box jump        leg-plyo       0.30     reps           na\n",
      "11         Triple hurdles        leg-plyo       0.50   rounds           na\n",
      "12             Depth jump        leg-plyo       0.60     reps           na\n",
      "13        High depth jump        leg-plyo       0.90     reps           na\n",
      "14       Eccentric nordic   leg-eccentric       0.70     reps    hamstring\n",
      "15           Nordic curls   leg-eccentric       0.85     reps    hamstring\n",
      "16        Reverse nordics   leg-eccentric       0.70     reps          leg\n",
      "17         Triangle bound        movement       0.40     reps           na\n",
      "18               Airplane        movement       0.30     reps           na\n",
      "19            2 leg bound        leg-plyo       0.40   rounds           na\n",
      "20            1 leg bound        leg-plyo       0.70   rounds           na\n",
      "21                Sprints        leg-plyo       0.90   rounds           na\n",
      "22           Ankle hurdle        leg-plyo       0.60   rounds           na\n",
      "23        Rocking deadbug            Core       0.65     reps         core\n",
      "24              Leg climb            Core       0.65     reps         core\n",
      "25         Reverse crunch            Core       0.50     reps         core\n",
      "26          Rocking plank            Core       0.50  seconds         core\n",
      "27             Side plank            Core       0.50  seconds         core\n",
      "28              Leg kicks     Flexibility       0.20     reps           na\n",
      "29                  90/90     Flexibility       0.20     reps           na\n",
      "30         Hip flexor CAR     Flexibility       0.20     reps           na\n",
      "31                 Angels     Flexibility       0.20  seconds           na\n",
      "32               Bird-dog            Core       0.30     reps           na\n",
      "33    Inner thigh stretch     Flexibility       0.20     reps           na\n",
      "34          Reach through     Flexibility       0.20     reps           na\n",
      "35  Band Assisted stretch     Flexibility       0.20     reps           na\n",
      "36                    RDL   leg-eccentric       0.70     reps    hamstring\n",
      "37           Full ROM RDL   leg-eccentric       0.80     reps    hamstring\n",
      "38            Power clean  leg-concentric       0.80     reps      olympic\n",
      "39       Hang Power clean  leg-concentric       0.80     reps      olympic\n",
      "40         Hang High pull  leg-concentric       0.80     reps      olympic\n",
      "41              High pull  leg-concentric       0.80     reps      olympic\n",
      "42          Hang overload  leg-concentric       0.90     reps      olympic\n",
      "43          Reverse plank   leg-isometric       0.50  seconds       glutes\n",
      "44      Hip flexor drives  leg-concentric       0.40     reps       glutes\n",
      "45  single leg iso bridge   leg-isometric       0.65  seconds       glutes\n",
      "46         crossover step        leg-plyo       0.40     reps           na\n",
      "47              pogo hops        leg-plyo       0.40     reps           na\n",
      "48            Split Squat  leg-concentric       0.70     reps          leg\n"
     ]
    }
   ],
   "source": [
    "df = pd.read_csv('Exercises.csv')\n",
    "print(df)"
   ]
  },
  {
   "cell_type": "code",
   "execution_count": 3,
   "metadata": {},
   "outputs": [],
   "source": [
    "legiso=df[(df['Type'])=='leg-isometric']\n",
    "legecc=df[(df['Type'])=='leg-eccentric']\n",
    "legcon=df[(df['Type'])=='leg-concentric']\n",
    "legply=df[(df['Type'])=='leg-plyo']\n",
    "movement=df[(df['Type'])=='movement']\n",
    "core=df[(df['Type'])=='Core']\n",
    "flexibility=df[(df['Type'])=='Flexibility']"
   ]
  },
  {
   "cell_type": "code",
   "execution_count": 4,
   "metadata": {},
   "outputs": [],
   "source": [
    "def P1L1():\n",
    "    move = movement.sample(3)\n",
    "    plyo = legply[(legply['Intensity'])<=0.40].sample(2)\n",
    "    main = legiso.sample(2)\n",
    "    frames = [move,plyo,main]\n",
    "    final = pd.concat(frames)\n",
    "    print(\"\\n\")\n",
    "    print(\"Day 1 & 5\")\n",
    "    print(final)"
   ]
  },
  {
   "cell_type": "code",
   "execution_count": 5,
   "metadata": {},
   "outputs": [],
   "source": [
    "def P1L2():\n",
    "    move = movement.sample(3)\n",
    "    plyo1 = legply[(legply['Intensity'])<=0.50].sample(2)\n",
    "    plyo2 = legply[(legply['Intensity'])>0.50].sample(1)\n",
    "    frames = [move,plyo1,plyo2]\n",
    "    final = pd.concat(frames)\n",
    "    print(\"\\n\")\n",
    "    print(\"Day 3\")\n",
    "    print(final)"
   ]
  },
  {
   "cell_type": "code",
   "execution_count": 6,
   "metadata": {},
   "outputs": [],
   "source": [
    "def P1U():\n",
    "    core = legiso.sample(2)\n",
    "    flex = flexibility.sample(4)\n",
    "    frames = [core,flex]\n",
    "    final = pd.concat(frames)\n",
    "    print(\"\\n\")\n",
    "    print(\"Day 2 & 4\")\n",
    "    print(final)"
   ]
  },
  {
   "cell_type": "code",
   "execution_count": 7,
   "metadata": {},
   "outputs": [
    {
     "name": "stdout",
     "output_type": "stream",
     "text": [
      "\n",
      "\n",
      "Day 1 & 5\n",
      "                 Exercise           Type  Intensity     Unit Muscle Group\n",
      "17         Triangle bound       movement       0.40     reps           na\n",
      "18               Airplane       movement       0.30     reps           na\n",
      "6           lateral bound       movement       0.30     reps           na\n",
      "19            2 leg bound       leg-plyo       0.40   rounds           na\n",
      "46         crossover step       leg-plyo       0.40     reps           na\n",
      "45  single leg iso bridge  leg-isometric       0.65  seconds       glutes\n",
      "0               RFESS iso  leg-isometric       0.80     reps          leg\n",
      "\n",
      "\n",
      "Day 3\n",
      "          Exercise      Type  Intensity     Unit Muscle Group\n",
      "18        Airplane  movement        0.3     reps           na\n",
      "17  Triangle bound  movement        0.4     reps           na\n",
      "6    lateral bound  movement        0.3     reps           na\n",
      "9   Ankle burnouts  leg-plyo        0.3  seconds           na\n",
      "47       pogo hops  leg-plyo        0.4     reps           na\n",
      "22    Ankle hurdle  leg-plyo        0.6   rounds           na\n",
      "\n",
      "\n",
      "Day 2 & 4\n",
      "                 Exercise           Type  Intensity     Unit Muscle Group\n",
      "45  single leg iso bridge  leg-isometric       0.65  seconds       glutes\n",
      "7    Hamstring isometrics  leg-isometric       0.50     reps    hamstring\n",
      "34          Reach through    Flexibility       0.20     reps           na\n",
      "30         Hip flexor CAR    Flexibility       0.20     reps           na\n",
      "35  Band Assisted stretch    Flexibility       0.20     reps           na\n",
      "33    Inner thigh stretch    Flexibility       0.20     reps           na\n"
     ]
    }
   ],
   "source": [
    "P1L1()\n",
    "P1L2()\n",
    "P1U()\n"
   ]
  }
 ],
 "metadata": {
  "interpreter": {
   "hash": "883b24795eb287e67b50e81280c01d1a9ac840b2980d70047321f60fc28dbe3c"
  },
  "kernelspec": {
   "display_name": "Python 3.9.7 ('base')",
   "language": "python",
   "name": "python3"
  },
  "language_info": {
   "codemirror_mode": {
    "name": "ipython",
    "version": 3
   },
   "file_extension": ".py",
   "mimetype": "text/x-python",
   "name": "python",
   "nbconvert_exporter": "python",
   "pygments_lexer": "ipython3",
   "version": "3.9.7"
  },
  "orig_nbformat": 4
 },
 "nbformat": 4,
 "nbformat_minor": 2
}
